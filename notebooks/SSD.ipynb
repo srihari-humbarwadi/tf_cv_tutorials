{
 "cells": [
  {
   "cell_type": "markdown",
   "metadata": {},
   "source": [
    "# SSD: Single Shot MultiBox Detector\n",
    "\n",
    "```\n",
    "@misc{liu2015ssd,\n",
    "    title={SSD: Single Shot MultiBox Detector},\n",
    "    author={Wei Liu and Dragomir Anguelov and Dumitru Erhan and Christian Szegedy and Scott Reed and Cheng-Yang Fu and Alexander C. Berg},\n",
    "    year={2015},\n",
    "    eprint={1512.02325},\n",
    "    archivePrefix={arXiv},\n",
    "    primaryClass={cs.CV}\n",
    "}\n",
    "```"
   ]
  },
  {
   "cell_type": "code",
   "execution_count": 1,
   "metadata": {},
   "outputs": [
    {
     "name": "stdout",
     "output_type": "stream",
     "text": [
      "TensorFlow: 2.2.0-rc2\n"
     ]
    }
   ],
   "source": [
    "import cv2\n",
    "import matplotlib.pyplot as plt\n",
    "import numpy as np\n",
    "import os\n",
    "import tensorflow as tf\n",
    "\n",
    "print('TensorFlow:', tf.__version__)"
   ]
  },
  {
   "cell_type": "code",
   "execution_count": 2,
   "metadata": {},
   "outputs": [
    {
     "name": "stdout",
     "output_type": "stream",
     "text": [
      "WARNING:tensorflow:There are non-GPU devices in `tf.distribute.Strategy`, not using nccl allreduce.\n",
      "INFO:tensorflow:Using MirroredStrategy with devices ('/job:localhost/replica:0/task:0/device:CPU:0',)\n",
      "\n",
      "Number of Accelerators : 1\n"
     ]
    }
   ],
   "source": [
    "strategy = tf.distribute.MirroredStrategy()\n",
    "print('\\nNumber of Accelerators :', strategy.num_replicas_in_sync)\n",
    "\n",
    "config = {\n",
    "    'input_shape': [300, 300],\n",
    "    'scales': [0.1, 0.2, 0.37, 0.54, 0.71, 0.88, 1.05],\n",
    "    'aspect_ratios': [[1 / 2, 1, 2], [1 / 2, 1 / 3, 1, 2, 3],\n",
    "                     [1 / 2, 1 / 3, 1, 2, 3], [1 / 2, 1 / 3, 1, 2, 3],\n",
    "                     [1 / 2, 1, 2], [1 / 2, 1, 2]],\n",
    "    'feature_sizes': [38, 19, 10, 5, 3, 1],\n",
    "    'clip_default_boxes': False,\n",
    "    'num_classes': 2,\n",
    "    'batch_size': 4 * strategy.num_replicas_in_sync\n",
    "}"
   ]
  },
  {
   "cell_type": "code",
   "execution_count": 3,
   "metadata": {},
   "outputs": [],
   "source": [
    "def change_box_format(boxes, return_format='xywh'):\n",
    "    boxes = tf.cast(boxes, dtype=tf.float32)\n",
    "    if return_format == 'xywh':\n",
    "        return tf.stack([(boxes[..., 2] + boxes[..., 0]) / 2.0,\n",
    "                         (boxes[..., 3] + boxes[..., 1]) / 2.0, boxes[..., 2] -\n",
    "                         boxes[..., 0], boxes[..., 3] - boxes[..., 1]],\n",
    "                        axis=-1)\n",
    "    elif return_format == 'x1y1x2y2':\n",
    "        return tf.stack([\n",
    "            boxes[..., 0] - boxes[..., 2] / 2.0, boxes[..., 1] -\n",
    "            boxes[..., 3] / 2.0, boxes[..., 0] + boxes[..., 2] / 2.0,\n",
    "            boxes[..., 1] + boxes[..., 3] / 2.0\n",
    "        ],\n",
    "                        axis=-1)\n",
    "\n",
    "\n",
    "def compute_iou(boxes1, boxes2):\n",
    "    boxes1 = tf.cast(boxes1, dtype=tf.float32)\n",
    "    boxes2 = tf.cast(boxes2, dtype=tf.float32)\n",
    "\n",
    "    boxes1_t = change_box_format(boxes1, return_format='x1y1x2y2')\n",
    "    boxes2_t = change_box_format(boxes2, return_format='x1y1x2y2')\n",
    "\n",
    "    lu = tf.maximum(boxes1_t[:, None, :2], boxes2_t[:, :2])\n",
    "    rd = tf.minimum(boxes1_t[:, None, 2:], boxes2_t[:, 2:])\n",
    "\n",
    "    intersection = tf.maximum(0.0, rd - lu)\n",
    "    inter_square = intersection[:, :, 0] * intersection[:, :, 1]\n",
    "\n",
    "    square1 = boxes1[:, 2] * boxes1[:, 3]\n",
    "    square2 = boxes2[:, 2] * boxes2[:, 3]\n",
    "\n",
    "    union_square = tf.maximum(square1[:, None] + square2 - inter_square, 1e-10)\n",
    "    return tf.clip_by_value(inter_square / union_square, 0.0, 1.0)"
   ]
  },
  {
   "cell_type": "code",
   "execution_count": 4,
   "metadata": {},
   "outputs": [],
   "source": [
    "# smin = 20\n",
    "# smax = 90\n",
    "# m = 5\n",
    "# scales = [0.1]\n",
    "# for k in range(1, m+2):\n",
    "#     sl = smin + (smax - smin)//(m - 1) * (k - 1)\n",
    "#     scales.append(sl/100)\n",
    "# assert scales == [0.1, 0.2, 0.37, 0.54, 0.71, 0.88, 1.05]"
   ]
  },
  {
   "cell_type": "code",
   "execution_count": 5,
   "metadata": {},
   "outputs": [],
   "source": [
    "class DefaultBoxes:\n",
    "\n",
    "    def __init__(self, input_shape, scales, aspect_ratios, feature_sizes, clip_boxes, **kwargs):\n",
    "        self._input_shape = input_shape\n",
    "        self._scales = scales\n",
    "        self._feature_sizes = feature_sizes\n",
    "        self._strides = [np.ceil(300 / x) for x in feature_sizes]\n",
    "        self._aspect_ratios = aspect_ratios\n",
    "        self._clip_boxes = clip_boxes\n",
    "        self._default_boxes = []\n",
    "        self._build_default_boxes()\n",
    "\n",
    "    def _build_meshgrid(self, feature_size):\n",
    "        meshgrid = tf.stack(tf.meshgrid(tf.range(feature_size),\n",
    "                                        tf.range(feature_size)),\n",
    "                            axis=-1)\n",
    "        return tf.cast(meshgrid, dtype=tf.float32)\n",
    "\n",
    "    def _get_dims(self, scale, ratio):\n",
    "        h = self._input_shape[0] * scale / np.sqrt(ratio)\n",
    "        w = self._input_shape[1] * scale * np.sqrt(ratio)\n",
    "        wh = tf.constant([w, h], dtype=tf.float32, shape=[1, 1, 2])\n",
    "        return wh\n",
    "\n",
    "    def _build_default_boxes(self):\n",
    "        default_boxes = []\n",
    "        for i in range(len(self._feature_sizes)):\n",
    "            feature_size = self._feature_sizes[i]\n",
    "            aspect_ratios = self._aspect_ratios[i]\n",
    "            sl = self._scales[i]\n",
    "            sl_next = self._scales[i + 1]\n",
    "\n",
    "            meshgrid = self._build_meshgrid(feature_size)\n",
    "            centers = (meshgrid + 0.5) * self._strides[i]\n",
    "            default_box = []\n",
    "\n",
    "            for ratio in aspect_ratios:\n",
    "                wh = self._get_dims(sl, ratio)\n",
    "                wh = tf.tile(wh, multiples=[feature_size, feature_size, 1])\n",
    "                box = tf.concat([centers, wh], axis=-1)\n",
    "                box = tf.expand_dims(box, axis=2)\n",
    "                default_box.append(box)\n",
    "\n",
    "            extra_wh = tf.constant([\n",
    "                self._input_shape[0] * np.sqrt(sl * sl_next),\n",
    "                self._input_shape[1] * np.sqrt(sl * sl_next)\n",
    "            ],\n",
    "                                   dtype=tf.float32,\n",
    "                                   shape=[1, 1, 2])\n",
    "            extra_wh = tf.tile(extra_wh,\n",
    "                               multiples=[feature_size, feature_size, 1])\n",
    "            extra_box = tf.concat([centers, extra_wh], axis=-1)\n",
    "            extra_box = tf.expand_dims(extra_box, axis=2)\n",
    "            default_box.append(extra_box)\n",
    "            \n",
    "            default_box = tf.concat(default_box, axis=2)\n",
    "            default_box = tf.reshape(default_box, shape=[-1, 4])\n",
    "            default_boxes.append(default_box)\n",
    "        self._default_boxes = tf.concat(default_boxes, axis=0)\n",
    "        if self._clip_boxes:\n",
    "            '''\n",
    "            convert to x1y1x2y2\n",
    "            clip (coord, 0, 300)\n",
    "            convert back to xywh\n",
    "            '''\n",
    "            pass\n",
    "\n",
    "    @property\n",
    "    def boxes(self):\n",
    "        return self._default_boxes\n",
    "\n",
    "\n",
    "class LabelEncoder:\n",
    "\n",
    "    def __init__(self, default_boxes, iou_threshold=0.5):\n",
    "        self._default_boxes = default_boxes\n",
    "        self._iou_threshold = iou_threshold\n",
    "        pass\n",
    "\n",
    "    def _match_gt(gt_boxes):\n",
    "        pass"
   ]
  },
  {
   "cell_type": "code",
   "execution_count": 6,
   "metadata": {},
   "outputs": [],
   "source": [
    "def conv_layer(tensor,\n",
    "               filters,\n",
    "               kernel_size,\n",
    "               stride,\n",
    "               padding='same',\n",
    "               w_init=tf.initializers.glorot_normal):\n",
    "    return tf.keras.layers.Conv2D(filters=filters,\n",
    "                                  kernel_size=kernel_size,\n",
    "                                  strides=stride,\n",
    "                                  padding=padding,\n",
    "                                  kernel_initializer=w_init)(tensor)\n",
    "\n",
    "\n",
    "def build_model(num_classes=2):\n",
    "    default_boxes = [4, 6, 6, 6, 4, 4]\n",
    "    base_model = tf.keras.applications.ResNet50(input_shape=[300, 300, 3],\n",
    "                                                include_top=False,\n",
    "                                                weights='imagenet')\n",
    "    feature_maps = [\n",
    "        base_model.get_layer(layer).output for layer in\n",
    "        ['conv3_block4_out', 'conv4_block6_out', 'conv5_block3_out']\n",
    "    ]\n",
    "    x = base_model.output\n",
    "    x = conv_layer(x, 256, 1, 1)\n",
    "    x = conv_layer(x, 256, 3, 2)\n",
    "    feature_maps.append(x)\n",
    "    x = conv_layer(x, 128, 1, 1, padding='valid')\n",
    "    x = conv_layer(x, 256, 3, 1, padding='valid')\n",
    "    feature_maps.append(x)\n",
    "    x = conv_layer(x, 128, 1, 1, padding='valid')\n",
    "    x = conv_layer(x, 256, 3, 1, padding='valid')\n",
    "    feature_maps.append(x)\n",
    "\n",
    "    outputs = []\n",
    "    for i, feature_map in enumerate(feature_maps):\n",
    "        filters = default_boxes[i] * (4 + num_classes)\n",
    "        y = conv_layer(feature_map, filters, 3, 1)\n",
    "        y = tf.keras.layers.Reshape([-1, 4 + num_classes])(y)\n",
    "        outputs.append(y)\n",
    "    prediction = tf.keras.layers.Concatenate(axis=1)(outputs)\n",
    "    model = tf.keras.Model(inputs=[base_model.input],\n",
    "                           outputs=[prediction],\n",
    "                           name='SSD')\n",
    "    return model"
   ]
  },
  {
   "cell_type": "code",
   "execution_count": 7,
   "metadata": {},
   "outputs": [],
   "source": [
    "model = build_model(num_classes=2)\n",
    "default_boxes = DefaultBoxes(**config)"
   ]
  },
  {
   "cell_type": "code",
   "execution_count": 8,
   "metadata": {},
   "outputs": [
    {
     "data": {
      "text/plain": [
       "<tf.Tensor: shape=(1, 8732, 6), dtype=float32, numpy=\n",
       "array([[[ 0.20844515, -1.3278862 ,  0.83444494, -0.65102065,\n",
       "         -2.9813375 , -1.2271886 ],\n",
       "        [ 0.08294801, -0.8132075 ,  1.6412677 , -0.8853096 ,\n",
       "          1.2581884 ,  0.5719473 ],\n",
       "        [ 1.4424982 , -0.58966994, -1.5887465 , -2.7098904 ,\n",
       "         -0.600199  ,  0.05868107],\n",
       "        ...,\n",
       "        [-0.436692  , -0.65218467, -0.69499856, -0.76058984,\n",
       "          0.23132701,  0.2934894 ],\n",
       "        [-0.894344  , -0.15233374,  0.394225  ,  0.47983184,\n",
       "          0.2652601 ,  0.7091137 ],\n",
       "        [-0.23398116, -1.0034909 ,  0.75078976, -0.23263337,\n",
       "         -0.5205121 , -0.6275463 ]]], dtype=float32)>"
      ]
     },
     "execution_count": 8,
     "metadata": {},
     "output_type": "execute_result"
    }
   ],
   "source": [
    "model(tf.random.normal([1, 300, 300, 3]))"
   ]
  },
  {
   "cell_type": "code",
   "execution_count": 9,
   "metadata": {},
   "outputs": [
    {
     "data": {
      "text/plain": [
       "<tf.Tensor: shape=(8732, 4), dtype=float32, numpy=\n",
       "array([[  4.      ,   4.      ,  21.213203,  42.426407],\n",
       "       [  4.      ,   4.      ,  30.      ,  30.      ],\n",
       "       [  4.      ,   4.      ,  42.426407,  21.213203],\n",
       "       ...,\n",
       "       [150.      , 150.      , 264.      , 264.      ],\n",
       "       [150.      , 150.      , 373.3524  , 186.6762  ],\n",
       "       [150.      , 150.      , 288.37476 , 288.37476 ]], dtype=float32)>"
      ]
     },
     "execution_count": 9,
     "metadata": {},
     "output_type": "execute_result"
    }
   ],
   "source": [
    "default_boxes.boxes"
   ]
  },
  {
   "cell_type": "code",
   "execution_count": null,
   "metadata": {},
   "outputs": [],
   "source": [
    "class DecodePredictions(tf.keras.layers.Layer):\n",
    "    def __init__(default_boxes, iou_threshold, score_threshold, **kwargs):\n",
    "        super(DecodePredictions, self).__init__(**kwargs)\n",
    "        \n",
    "    def call(self, predictions)\n",
    "    \n",
    "    \n",
    "class SSDLocLoss(tf.losses.loss):\n",
    "    pass\n",
    "\n",
    "class SSDClsLoss(tf.losses.loss):\n",
    "    pass"
   ]
  },
  {
   "cell_type": "code",
   "execution_count": null,
   "metadata": {},
   "outputs": [],
   "source": []
  }
 ],
 "metadata": {
  "kernelspec": {
   "display_name": "Python 3",
   "language": "python",
   "name": "python3"
  },
  "language_info": {
   "codemirror_mode": {
    "name": "ipython",
    "version": 3
   },
   "file_extension": ".py",
   "mimetype": "text/x-python",
   "name": "python",
   "nbconvert_exporter": "python",
   "pygments_lexer": "ipython3",
   "version": "3.7.6"
  }
 },
 "nbformat": 4,
 "nbformat_minor": 4
}
