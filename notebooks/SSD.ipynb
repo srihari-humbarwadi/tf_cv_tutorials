{
 "cells": [
  {
   "cell_type": "markdown",
   "metadata": {},
   "source": [
    "# SSD: Single Shot MultiBox Detector\n",
    "\n",
    "```\n",
    "@misc{liu2015ssd,\n",
    "    title={SSD: Single Shot MultiBox Detector},\n",
    "    author={Wei Liu and Dragomir Anguelov and Dumitru Erhan and Christian Szegedy and Scott Reed and Cheng-Yang Fu and Alexander C. Berg},\n",
    "    year={2015},\n",
    "    eprint={1512.02325},\n",
    "    archivePrefix={arXiv},\n",
    "    primaryClass={cs.CV}\n",
    "}\n",
    "```"
   ]
  },
  {
   "cell_type": "code",
   "execution_count": 1,
   "metadata": {},
   "outputs": [
    {
     "name": "stdout",
     "output_type": "stream",
     "text": [
      "TensorFlow: 2.2.0-rc3\n"
     ]
    }
   ],
   "source": [
    "import cv2\n",
    "import matplotlib.pyplot as plt\n",
    "import numpy as np\n",
    "import os\n",
    "import tensorflow as tf\n",
    "\n",
    "print('TensorFlow:', tf.__version__)"
   ]
  },
  {
   "cell_type": "code",
   "execution_count": 2,
   "metadata": {},
   "outputs": [],
   "source": [
    "def imshow(image):\n",
    "    plt.figure(figsize=(8, 8))\n",
    "    plt.imshow(image)\n",
    "\n",
    "\n",
    "def draw_boxes_cv2(image, boxes, categories, show_labels=True):\n",
    "    image = np.array(image, dtype=np.uint8)\n",
    "    boxes = np.array(boxes, dtype=np.int32)\n",
    "    categories = np.array(categories)\n",
    "    for _box, _cls in zip(boxes, categories):\n",
    "        if show_labels:\n",
    "            text = _cls\n",
    "            char_len = len(text) * 6\n",
    "            text_orig = (_box[0] + 5, _box[1] - 6)\n",
    "            text_bg_xy1 = (_box[0], _box[1] - 15)\n",
    "            text_bg_xy2 = (_box[0] + char_len, _box[1])\n",
    "            image = cv2.rectangle(image, text_bg_xy1, text_bg_xy2, [255, 252, 150],\n",
    "                                  -1)\n",
    "            image = cv2.putText(image,\n",
    "                                text,\n",
    "                                text_orig,\n",
    "                                cv2.FONT_HERSHEY_COMPLEX_SMALL,\n",
    "                                .4, [0, 0, 0],\n",
    "                                4,\n",
    "                                lineType=cv2.LINE_AA)\n",
    "            image = cv2.putText(image,\n",
    "                                text,\n",
    "                                text_orig,\n",
    "                                cv2.FONT_HERSHEY_COMPLEX_SMALL,\n",
    "                                .4, [255, 255, 255],\n",
    "                                1,\n",
    "                                lineType=cv2.LINE_AA)\n",
    "        image = cv2.rectangle(image, (_box[0], _box[1]), (_box[2], _box[3]),\n",
    "                              [30, 15, 30], 1)\n",
    "    return image"
   ]
  },
  {
   "cell_type": "code",
   "execution_count": 3,
   "metadata": {},
   "outputs": [],
   "source": [
    "shapes_dataset_tfrecords_path = '../tutorials/data/shapes_dataset_tfrecords'\n",
    "train_tfrecords_pattern = shapes_dataset_tfrecords_path + '/train*'\n",
    "val_tfrecords_pattern = shapes_dataset_tfrecords_path + '/val*'\n",
    "\n",
    "train_tfrecords = tf.data.Dataset.list_files(train_tfrecords_pattern)\n",
    "val_tfrecords = tf.data.Dataset.list_files(val_tfrecords_pattern)"
   ]
  },
  {
   "cell_type": "code",
   "execution_count": 4,
   "metadata": {},
   "outputs": [],
   "source": [
    "def parse_example(example_proto):\n",
    "    feature_description = {\n",
    "        'image': tf.io.FixedLenFeature([], tf.string),\n",
    "        'xmins': tf.io.VarLenFeature(tf.float32),\n",
    "        'ymins': tf.io.VarLenFeature(tf.float32),\n",
    "        'xmaxs': tf.io.VarLenFeature(tf.float32),\n",
    "        'ymaxs': tf.io.VarLenFeature(tf.float32),\n",
    "        'classes': tf.io.VarLenFeature(tf.int64),\n",
    "    }\n",
    "\n",
    "    parsed_example = tf.io.parse_single_example(example_proto,\n",
    "                                                feature_description)\n",
    "    image = tf.io.decode_image(parsed_example['image'], channels=3)\n",
    "    image = tf.cast(image, dtype=tf.float32)\n",
    "    image.set_shape([None, None, 3])\n",
    "    boxes = tf.stack([\n",
    "        tf.sparse.to_dense(parsed_example['xmins']),\n",
    "        tf.sparse.to_dense(parsed_example['ymins']),\n",
    "        tf.sparse.to_dense(parsed_example['xmaxs']),\n",
    "        tf.sparse.to_dense(parsed_example['ymaxs']),\n",
    "    ],\n",
    "                     axis=-1)\n",
    "    classes = tf.sparse.to_dense(parsed_example['classes'])\n",
    "    return image, boxes, classes"
   ]
  },
  {
   "cell_type": "code",
   "execution_count": 5,
   "metadata": {},
   "outputs": [],
   "source": [
    "def random_flip_data(image, boxes):\n",
    "    w = tf.cast(tf.shape(image)[1], dtype=tf.float32)\n",
    "    if tf.random.uniform(()) > 0.5:\n",
    "        image = tf.image.flip_left_right(image)\n",
    "        boxes = tf.stack(\n",
    "            [w - boxes[:, 2], boxes[:, 1], w - boxes[:, 0], boxes[:, 3]],\n",
    "            axis=-1)\n",
    "    return image, boxes\n",
    "\n",
    "\n",
    "def parse_and_create_label(example_proto):\n",
    "    image, boxes, classes = parse_example(example_proto)\n",
    "    image = (image - 127.5) / 127.5 # scale image so that pixel value are in [-1, 1]\n",
    "    image, boxes = random_flip_data(image, boxes)\n",
    "    label = create_label(boxes, classes)\n",
    "    return image, label\n",
    "\n",
    "\n",
    "def build_dataset(tfrecords, batch_size):\n",
    "    dataset = tfrecords.interleave(\n",
    "        tf.data.TFRecordDataset,\n",
    "        cycle_length=8,\n",
    "        block_length=32,\n",
    "        num_parallel_calls=tf.data.experimental.AUTOTUNE)\n",
    "    dataset = dataset.shuffle(512)\n",
    "    dataset = dataset.map(parse_example,\n",
    "                          num_parallel_calls=tf.data.experimental.AUTOTUNE)\n",
    "    return dataset"
   ]
  },
  {
   "cell_type": "code",
   "execution_count": 6,
   "metadata": {},
   "outputs": [
    {
     "name": "stdout",
     "output_type": "stream",
     "text": [
      "WARNING:tensorflow:There are non-GPU devices in `tf.distribute.Strategy`, not using nccl allreduce.\n",
      "INFO:tensorflow:Using MirroredStrategy with devices ('/job:localhost/replica:0/task:0/device:CPU:0',)\n",
      "\n",
      "Number of Accelerators : 1\n"
     ]
    }
   ],
   "source": [
    "strategy = tf.distribute.MirroredStrategy()\n",
    "print('\\nNumber of Accelerators :', strategy.num_replicas_in_sync)\n",
    "\n",
    "config = {\n",
    "    'input_shape': [300, 300],\n",
    "    'scales': [0.1, 0.2, 0.37, 0.54, 0.71, 0.88, 1.05],\n",
    "#     'scales': [0.1, 0.2, 0.38, 0.55, 0.72, 0.9, 1.08],\n",
    "    'aspect_ratios': [[1 / 2, 1, 2], [1 / 2, 1 / 3, 1, 2, 3],\n",
    "                     [1 / 2, 1 / 3, 1, 2, 3], [1 / 2, 1 / 3, 1, 2, 3],\n",
    "                     [1 / 2, 1, 2], [1 / 2, 1, 2]],\n",
    "    'feature_sizes': [38, 19, 10, 5, 3, 1],\n",
    "    'loc_variance': [0.1, 0.1, 0.2, 0.2],\n",
    "    'clip_default_boxes': False,\n",
    "    'num_classes': 2,\n",
    "    'match_iou_threshold': 0.5,\n",
    "    'nms_iou_threshold': 0.5,\n",
    "    'score_threshold': 0.45,\n",
    "    'batch_size': 4 * strategy.num_replicas_in_sync\n",
    "}"
   ]
  },
  {
   "cell_type": "code",
   "execution_count": 7,
   "metadata": {},
   "outputs": [],
   "source": [
    "def change_box_format(boxes, return_format='xywh'):\n",
    "    boxes = tf.cast(boxes, dtype=tf.float32)\n",
    "    if return_format == 'xywh':\n",
    "        return tf.stack([(boxes[..., 2] + boxes[..., 0]) / 2.0,\n",
    "                         (boxes[..., 3] + boxes[..., 1]) / 2.0, boxes[..., 2] -\n",
    "                         boxes[..., 0], boxes[..., 3] - boxes[..., 1]],\n",
    "                        axis=-1)\n",
    "    elif return_format == 'x1y1x2y2':\n",
    "        return tf.stack([\n",
    "            boxes[..., 0] - boxes[..., 2] / 2.0, boxes[..., 1] -\n",
    "            boxes[..., 3] / 2.0, boxes[..., 0] + boxes[..., 2] / 2.0,\n",
    "            boxes[..., 1] + boxes[..., 3] / 2.0\n",
    "        ],\n",
    "                        axis=-1)"
   ]
  },
  {
   "cell_type": "code",
   "execution_count": 8,
   "metadata": {},
   "outputs": [],
   "source": [
    "# smin = 20\n",
    "# smax = 90\n",
    "# m = 5\n",
    "# scales = [0.1]\n",
    "# for k in range(1, m+2):\n",
    "#     sl = smin + (smax - smin)//(m - 1) * (k - 1)\n",
    "#     scales.append(sl/100)\n",
    "# assert scales == [0.1, 0.2, 0.37, 0.54, 0.71, 0.88, 1.05]"
   ]
  },
  {
   "cell_type": "code",
   "execution_count": 9,
   "metadata": {},
   "outputs": [],
   "source": [
    "class DefaultBoxes:\n",
    "\n",
    "    def __init__(self, config):\n",
    "        self._input_shape = config['input_shape']\n",
    "        self._scales = config['scales']\n",
    "        self._feature_sizes = config['feature_sizes']\n",
    "        self._strides = [np.ceil(300 / x) for x in config['feature_sizes']]\n",
    "        self._aspect_ratios = config['aspect_ratios']\n",
    "        self.clip_default_boxes = config['clip_default_boxes']\n",
    "        self._default_boxes = []\n",
    "        self._build_default_boxes()\n",
    "\n",
    "    def _build_meshgrid(self, feature_size):\n",
    "        meshgrid = tf.stack(tf.meshgrid(tf.range(feature_size),\n",
    "                                        tf.range(feature_size)),\n",
    "                            axis=-1)\n",
    "        return tf.cast(meshgrid, dtype=tf.float32)\n",
    "\n",
    "    def _get_dims(self, scale, ratio):\n",
    "        h = self._input_shape[0] * scale / np.sqrt(ratio)\n",
    "        w = self._input_shape[1] * scale * np.sqrt(ratio)\n",
    "        wh = tf.constant([w, h], dtype=tf.float32, shape=[1, 1, 2])\n",
    "        return wh\n",
    "\n",
    "    def _build_default_boxes(self):\n",
    "        default_boxes = []\n",
    "        for i in range(len(self._feature_sizes)):\n",
    "            feature_size = self._feature_sizes[i]\n",
    "            aspect_ratios = self._aspect_ratios[i]\n",
    "            sl = self._scales[i]\n",
    "            sl_next = self._scales[i + 1]\n",
    "\n",
    "            meshgrid = self._build_meshgrid(feature_size)\n",
    "            centers = (meshgrid + 0.5) * self._strides[i]\n",
    "            \n",
    "            default_box = []\n",
    "            for ratio in aspect_ratios:\n",
    "                wh = self._get_dims(sl, ratio)\n",
    "                wh = tf.tile(wh, multiples=[feature_size, feature_size, 1])\n",
    "                box = tf.concat([centers, wh], axis=-1)\n",
    "                box = tf.expand_dims(box, axis=2)\n",
    "                default_box.append(box)\n",
    "\n",
    "            extra_wh = tf.constant([\n",
    "                self._input_shape[0] * np.sqrt(sl * sl_next),\n",
    "                self._input_shape[1] * np.sqrt(sl * sl_next)\n",
    "            ],\n",
    "                                   dtype=tf.float32,\n",
    "                                   shape=[1, 1, 2])\n",
    "            extra_wh = tf.tile(extra_wh,\n",
    "                               multiples=[feature_size, feature_size, 1])\n",
    "            extra_box = tf.concat([centers, extra_wh], axis=-1)\n",
    "            extra_box = tf.expand_dims(extra_box, axis=2)\n",
    "            default_box.append(extra_box)\n",
    "            \n",
    "            default_box = tf.concat(default_box, axis=2)\n",
    "            default_box = tf.reshape(default_box, shape=[-1, 4])\n",
    "            default_boxes.append(default_box)\n",
    "        self._default_boxes = tf.concat(default_boxes, axis=0)\n",
    "        \n",
    "        if self.clip_default_boxes:\n",
    "            '''\n",
    "            convert to x1y1x2y2\n",
    "            clip (coord, 0, 300)\n",
    "            convert back to xywh\n",
    "            '''\n",
    "            pass\n",
    "\n",
    "    @property\n",
    "    def boxes(self):\n",
    "        return self._default_boxes\n",
    "    \n",
    "class BoxMatcher:\n",
    "    def __init__(self, iou_threshold=0.5):\n",
    "        self._iou_threshold = iou_threshold\n",
    "        \n",
    "    def _compute_iou(self, boxes1, boxes2):\n",
    "        boxes1 = tf.cast(boxes1, dtype=tf.float32)\n",
    "        boxes2 = tf.cast(boxes2, dtype=tf.float32)\n",
    "\n",
    "        boxes1_t = change_box_format(boxes1, return_format='x1y1x2y2')\n",
    "        boxes2_t = change_box_format(boxes2, return_format='x1y1x2y2')\n",
    "\n",
    "        lu = tf.maximum(boxes1_t[:, None, :2], boxes2_t[:, :2])\n",
    "        rd = tf.minimum(boxes1_t[:, None, 2:], boxes2_t[:, 2:])\n",
    "\n",
    "        intersection = tf.maximum(0.0, rd - lu)\n",
    "        inter_square = intersection[:, :, 0] * intersection[:, :, 1]\n",
    "\n",
    "        square1 = boxes1[:, 2] * boxes1[:, 3]\n",
    "        square2 = boxes2[:, 2] * boxes2[:, 3]\n",
    "\n",
    "        union_square = tf.maximum(square1[:, None] + square2 - inter_square, 1e-10)\n",
    "        return tf.clip_by_value(inter_square / union_square, 0.0, 1.0)\n",
    "        \n",
    "    def __call__(self, default_boxes, gt_boxes):\n",
    "        iou_matrix = self._compute_iou(default_boxes, gt_boxes)\n",
    "        max_iou = tf.reduce_max(iou_matrix, axis=1)\n",
    "        matched_gt_idx = tf.argmax(iou_matrix, axis=1)\n",
    "        positive_mask = tf.cast(tf.greater_equal(max_iou, self._iou_threshold), dtype=tf.float32)\n",
    "        return matched_gt_idx, positive_mask\n",
    "\n",
    "\n",
    "class LabelEncoder:\n",
    "\n",
    "    def __init__(self, config):\n",
    "        self._default_boxes = DefaultBoxes(config).boxes\n",
    "        self._loc_variance = tf.constant(config['loc_variance'], dtype=tf.float32)\n",
    "        self._num_classes = config['num_classes']\n",
    "        self._box_matcher = BoxMatcher(config['match_iou_threshold'])\n",
    "\n",
    "    def _compute_loc_target(self, matched_gt_boxes):\n",
    "        loc_target = tf.concat([\n",
    "            (matched_gt_boxes[:, :2] - self._default_boxes[:, :2]) / self._default_boxes[:, 2:],\n",
    "            tf.math.log(matched_gt_boxes[:, 2:] / self._default_boxes[:, 2:])\n",
    "        ], axis=-1)\n",
    "        loc_target = loc_target / self._loc_variance\n",
    "        return loc_target\n",
    "        \n",
    "    def _encode_sample(self, gt_boxes, cls_ids):\n",
    "        cls_ids = tf.cast(cls_ids + 1, dtype=tf.float32)  # add background class with cls_id = 0\n",
    "        \n",
    "        matched_gt_idx, positive_mask = self._box_matcher(self._default_boxes, gt_boxes)\n",
    "        matched_gt_boxes = tf.gather(gt_boxes, matched_gt_idx)\n",
    "        matched_gt_cls_ids = tf.gather(cls_ids, matched_gt_idx)\n",
    "\n",
    "        loc_target = self._compute_loc_target(matched_gt_boxes)\n",
    "        cls_target = tf.cast(matched_gt_cls_ids * positive_mask, dtype=tf.int32)\n",
    "        cls_target = tf.one_hot(cls_target, depth=self._num_classes+1, dtype=tf.float32)\n",
    "        return loc_target, cls_target\n",
    "    \n",
    "class DecodePredictions(tf.keras.layers.Layer):\n",
    "\n",
    "    def __init__(self, config, **kwargs):\n",
    "        super(DecodePredictions, self).__init__(**kwargs)\n",
    "        self._default_boxes = DefaultBoxes(config).boxes\n",
    "        self._loc_variance = config['loc_variance']\n",
    "        self._nms_iou_threshold = config['nms_iou_threshold']\n",
    "        self._nms_score_threshold = config['score_threshold']\n",
    "\n",
    "    def _decode_loc_predictions(self, loc_predictions):\n",
    "        boxes = loc_predictions * self._loc_variance\n",
    "        boxes = tf.concat([\n",
    "            boxes[:, :2] * self._default_boxes[:, 2:] + self._default_boxes[:, :2],\n",
    "            tf.math.exp(boxes[:, 2:]) * self._default_boxes[:, 2:]\n",
    "        ],\n",
    "                          axis=-1)\n",
    "        boxes_transformed = change_box_format(boxes, return_format='x1y1x2y2')\n",
    "        return boxes_transformed\n",
    "\n",
    "    def _decode_cls_predictions(self, cls_predictions):\n",
    "        cls_ids = tf.argmax(cls_predictions, axis=-1)\n",
    "        cls_ids = cls_ids - 1  # background is encoded cls_id 0 \n",
    "        cls_scores = tf.reduce_max(cls_predictions, axis=-1)\n",
    "        \n",
    "        return cls_ids, cls_scores\n",
    "\n",
    "    def _filter_background_predictions(self, boxes, cls_ids, cls_scores):\n",
    "        foreground_idx = tf.where(cls_ids != 0)[:, 0]\n",
    "        \n",
    "        filtered_boxes = tf.gather(boxes, foreground_idx)\n",
    "        filtered_cls_ids = tf.gather(cls_ids, foreground_idx)\n",
    "        filtered_cls_scores = tf.gather(cls_scores, foreground_idx)\n",
    "        return filtered_boxes, filtered_cls_ids, filtered_cls_scores\n",
    "\n",
    "    def call(self, predictions):\n",
    "        predictions = predictions[0]\n",
    "\n",
    "        loc_predictions = predictions[:, :4]\n",
    "        cls_predictions = predictions[:, 4:]\n",
    "\n",
    "        boxes = self._decode_loc_predictions(loc_predictions)\n",
    "        cls_ids, cls_scores = self._decode_cls_predictions(cls_predictions)\n",
    "        \n",
    "        boxes, cls_ids, cls_scores = self._filter_background_predictions(boxes,\n",
    "                                                                         cls_ids,\n",
    "                                                                         cls_scores)\n",
    "        nms_idx = tf.image.non_max_suppression(boxes,\n",
    "                                               cls_scores,\n",
    "                                               max_output_size=100,\n",
    "                                               iou_threshold=self._nms_iou_threshold,\n",
    "                                               score_threshold=self._nms_score_threshold)\n",
    "        \n",
    "        decoded_boxes = tf.gather(boxes, nms_idx)\n",
    "        decoded_cls_ids = tf.gather(cls_ids, nms_idx)\n",
    "        decoded_cls_scores = tf.gather(cls_scores, nms_idx)\n",
    "        \n",
    "        return decoded_boxes, decoded_cls_ids, decoded_cls_scores"
   ]
  },
  {
   "cell_type": "markdown",
   "metadata": {},
   "source": [
    "### Check Encoding"
   ]
  },
  {
   "cell_type": "code",
   "execution_count": 43,
   "metadata": {},
   "outputs": [
    {
     "data": {
      "image/png": "[encoded data removed]",
      "text/plain": [
       "<Figure size 576x576 with 1 Axes>"
      ]
     },
     "metadata": {
      "needs_background": "light"
     },
     "output_type": "display_data"
    },
    {
     "data": {
      "image/png": "[encoded data removed]",
      "text/plain": [
       "<Figure size 576x576 with 1 Axes>"
      ]
     },
     "metadata": {
      "needs_background": "light"
     },
     "output_type": "display_data"
    }
   ],
   "source": [
    "dataset = build_dataset(train_tfrecords, 1)\n",
    "label_encoder = LabelEncoder(config)\n",
    "for image, boxes, classes in dataset.take(1):\n",
    "    image = tf.image.resize(image, [300, 300])\n",
    "    boxes = boxes*300/448\n",
    "    boxes_xywh = change_box_format(boxes, return_format='xywh')\n",
    "    label = label_encoder._encode_sample(boxes_xywh, classes)\n",
    "    label = tf.concat(label, axis=-1)[None, ...]\n",
    "    decoded_boxes, decoded_cls_ids, _ = DecodePredictions(config)(label)    \n",
    "    \n",
    "    positive_mask = tf.cast(tf.argmax(label[0, :, 4:], axis=-1)!=0, dtype=tf.float32)\n",
    "    matched_default_boxes = tf.gather(label_encoder._default_boxes, tf.where(positive_mask!=0)[:, 0])\n",
    "    matched_default_boxes_xywh = change_box_format(matched_default_boxes, return_format='x1y1x2y2')\n",
    "\n",
    "    imshow(draw_boxes_cv2(image, matched_default_boxes_xywh, range(len(matched_default_boxes)), show_labels=False))\n",
    "    imshow(draw_boxes_cv2(image, decoded_boxes, ['circle' if x == 0 else 'rectangle' for x in decoded_cls_ids], show_labels=True))"
   ]
  },
  {
   "cell_type": "code",
   "execution_count": 6,
   "metadata": {},
   "outputs": [],
   "source": [
    "def conv_layer(tensor,\n",
    "               filters,\n",
    "               kernel_size,\n",
    "               stride,\n",
    "               padding='same',\n",
    "               w_init=tf.initializers.glorot_normal):\n",
    "    return tf.keras.layers.Conv2D(filters=filters,\n",
    "                                  kernel_size=kernel_size,\n",
    "                                  strides=stride,\n",
    "                                  padding=padding,\n",
    "                                  kernel_initializer=w_init)(tensor)\n",
    "\n",
    "\n",
    "def build_model(num_classes=2):\n",
    "    default_boxes = [4, 6, 6, 6, 4, 4]\n",
    "    base_model = tf.keras.applications.ResNet50(input_shape=[300, 300, 3],\n",
    "                                                include_top=False,\n",
    "                                                weights='imagenet')\n",
    "    feature_maps = [\n",
    "        base_model.get_layer(layer).output for layer in\n",
    "        ['conv3_block4_out', 'conv4_block6_out', 'conv5_block3_out']\n",
    "    ]\n",
    "    x = base_model.output\n",
    "    x = conv_layer(x, 256, 1, 1)\n",
    "    x = conv_layer(x, 256, 3, 2)\n",
    "    feature_maps.append(x)\n",
    "    x = conv_layer(x, 128, 1, 1, padding='valid')\n",
    "    x = conv_layer(x, 256, 3, 1, padding='valid')\n",
    "    feature_maps.append(x)\n",
    "    x = conv_layer(x, 128, 1, 1, padding='valid')\n",
    "    x = conv_layer(x, 256, 3, 1, padding='valid')\n",
    "    feature_maps.append(x)\n",
    "\n",
    "    outputs = []\n",
    "    for i, feature_map in enumerate(feature_maps):\n",
    "        filters = default_boxes[i] * (4 + num_classes + 1)\n",
    "        y = conv_layer(feature_map, filters, 3, 1)\n",
    "        y = tf.keras.layers.Reshape([-1, 4 + num_classes + 1])(y)\n",
    "        outputs.append(y)\n",
    "    prediction = tf.keras.layers.Concatenate(axis=1)(outputs)\n",
    "    model = tf.keras.Model(inputs=[base_model.input],\n",
    "                           outputs=[prediction],\n",
    "                           name='SSD')\n",
    "    return model"
   ]
  },
  {
   "cell_type": "markdown",
   "metadata": {},
   "source": [
    "## Implementing Loss functions"
   ]
  },
  {
   "cell_type": "code",
   "execution_count": null,
   "metadata": {},
   "outputs": [],
   "source": [
    "class SSDLocLoss(tf.losses.Loss):\n",
    "    pass\n",
    "\n",
    "\n",
    "class SSDClsLoss(tf.losses.Loss):\n",
    "    pass"
   ]
  },
  {
   "cell_type": "code",
   "execution_count": 7,
   "metadata": {},
   "outputs": [],
   "source": [
    "model = build_model(num_classes=2)\n",
    "default_boxes = DefaultBoxes(**config)"
   ]
  },
  {
   "cell_type": "code",
   "execution_count": 8,
   "metadata": {},
   "outputs": [
    {
     "data": {
      "text/plain": [
       "<tf.Tensor: shape=(1, 8732, 6), dtype=float32, numpy=\n",
       "array([[[ 0.20844515, -1.3278862 ,  0.83444494, -0.65102065,\n",
       "         -2.9813375 , -1.2271886 ],\n",
       "        [ 0.08294801, -0.8132075 ,  1.6412677 , -0.8853096 ,\n",
       "          1.2581884 ,  0.5719473 ],\n",
       "        [ 1.4424982 , -0.58966994, -1.5887465 , -2.7098904 ,\n",
       "         -0.600199  ,  0.05868107],\n",
       "        ...,\n",
       "        [-0.436692  , -0.65218467, -0.69499856, -0.76058984,\n",
       "          0.23132701,  0.2934894 ],\n",
       "        [-0.894344  , -0.15233374,  0.394225  ,  0.47983184,\n",
       "          0.2652601 ,  0.7091137 ],\n",
       "        [-0.23398116, -1.0034909 ,  0.75078976, -0.23263337,\n",
       "         -0.5205121 , -0.6275463 ]]], dtype=float32)>"
      ]
     },
     "execution_count": 8,
     "metadata": {},
     "output_type": "execute_result"
    }
   ],
   "source": [
    "model(tf.random.normal([1, 300, 300, 3]))"
   ]
  },
  {
   "cell_type": "code",
   "execution_count": 9,
   "metadata": {},
   "outputs": [
    {
     "data": {
      "text/plain": [
       "<tf.Tensor: shape=(8732, 4), dtype=float32, numpy=\n",
       "array([[  4.      ,   4.      ,  21.213203,  42.426407],\n",
       "       [  4.      ,   4.      ,  30.      ,  30.      ],\n",
       "       [  4.      ,   4.      ,  42.426407,  21.213203],\n",
       "       ...,\n",
       "       [150.      , 150.      , 264.      , 264.      ],\n",
       "       [150.      , 150.      , 373.3524  , 186.6762  ],\n",
       "       [150.      , 150.      , 288.37476 , 288.37476 ]], dtype=float32)>"
      ]
     },
     "execution_count": 9,
     "metadata": {},
     "output_type": "execute_result"
    }
   ],
   "source": [
    "default_boxes.boxes"
   ]
  },
  {
   "cell_type": "code",
   "execution_count": 50,
   "metadata": {},
   "outputs": [],
   "source": []
  },
  {
   "cell_type": "code",
   "execution_count": null,
   "metadata": {},
   "outputs": [],
   "source": []
  }
 ],
 "metadata": {
  "kernelspec": {
   "display_name": "Python 3",
   "language": "python",
   "name": "python3"
  },
  "language_info": {
   "codemirror_mode": {
    "name": "ipython",
    "version": 3
   },
   "file_extension": ".py",
   "mimetype": "text/x-python",
   "name": "python",
   "nbconvert_exporter": "python",
   "pygments_lexer": "ipython3",
   "version": "3.7.6"
  }
 },
 "nbformat": 4,
 "nbformat_minor": 4
}
