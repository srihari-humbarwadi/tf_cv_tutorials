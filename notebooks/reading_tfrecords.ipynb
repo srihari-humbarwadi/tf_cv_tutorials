{
 "cells": [
  {
   "cell_type": "code",
   "execution_count": 28,
   "metadata": {},
   "outputs": [
    {
     "name": "stdout",
     "output_type": "stream",
     "text": [
      "TensorFlow: 2.2.0-rc2\n"
     ]
    }
   ],
   "source": [
    "import cv2\n",
    "import numpy as np\n",
    "import matplotlib.pyplot as plt\n",
    "import tensorflow as tf\n",
    "\n",
    "print('TensorFlow:', tf.__version__)"
   ]
  },
  {
   "cell_type": "code",
   "execution_count": 29,
   "metadata": {},
   "outputs": [],
   "source": [
    "shapes_dataset_tfrecords_path = '../tutorials/data/shapes_dataset_tfrecords'\n",
    "train_tfrecords_pattern = shapes_dataset_tfrecords_path + '/train*'"
   ]
  },
  {
   "cell_type": "code",
   "execution_count": 30,
   "metadata": {},
   "outputs": [
    {
     "name": "stdout",
     "output_type": "stream",
     "text": [
      "tf.Tensor(b'../tutorials/data/shapes_dataset_tfrecords/train_0007.tfrecord', shape=(), dtype=string)\n",
      "tf.Tensor(b'../tutorials/data/shapes_dataset_tfrecords/train_0005.tfrecord', shape=(), dtype=string)\n",
      "tf.Tensor(b'../tutorials/data/shapes_dataset_tfrecords/train_0004.tfrecord', shape=(), dtype=string)\n",
      "tf.Tensor(b'../tutorials/data/shapes_dataset_tfrecords/train_0001.tfrecord', shape=(), dtype=string)\n",
      "tf.Tensor(b'../tutorials/data/shapes_dataset_tfrecords/train_0002.tfrecord', shape=(), dtype=string)\n",
      "tf.Tensor(b'../tutorials/data/shapes_dataset_tfrecords/train_0006.tfrecord', shape=(), dtype=string)\n",
      "tf.Tensor(b'../tutorials/data/shapes_dataset_tfrecords/train_0008.tfrecord', shape=(), dtype=string)\n",
      "tf.Tensor(b'../tutorials/data/shapes_dataset_tfrecords/train_0003.tfrecord', shape=(), dtype=string)\n"
     ]
    }
   ],
   "source": [
    "train_tfrecords = tf.data.Dataset.list_files(train_tfrecords_pattern)\n",
    "\n",
    "for x in train_tfrecords:\n",
    "    print(x)"
   ]
  },
  {
   "cell_type": "code",
   "execution_count": 31,
   "metadata": {},
   "outputs": [],
   "source": [
    "def parse_example(example_proto):\n",
    "    feature_description = {\n",
    "        'image': tf.io.FixedLenFeature([], tf.string),\n",
    "        'xmins': tf.io.VarLenFeature(tf.float32),\n",
    "        'ymins': tf.io.VarLenFeature(tf.float32),\n",
    "        'xmaxs': tf.io.VarLenFeature(tf.float32),\n",
    "        'ymaxs': tf.io.VarLenFeature(tf.float32),\n",
    "        'classes': tf.io.VarLenFeature(tf.int64),\n",
    "    }\n",
    "\n",
    "    parsed_example = tf.io.parse_single_example(example_proto, feature_description)\n",
    "    image = tf.io.decode_image(parsed_example['image'], channels=3)\n",
    "    image.set_shape([None, None, 3])\n",
    "    boxes = tf.stack([\n",
    "        tf.sparse.to_dense(parsed_example['xmins']),\n",
    "        tf.sparse.to_dense(parsed_example['ymins']),\n",
    "        tf.sparse.to_dense(parsed_example['xmaxs']),\n",
    "        tf.sparse.to_dense(parsed_example['ymaxs']),\n",
    "    ], axis=-1)\n",
    "    classes = tf.sparse.to_dense(parsed_example['classes'])\n",
    "    return image, boxes, classes\n",
    "\n",
    "\n",
    "def build_tfrecord_dataset(tfrecords):\n",
    "    dataset = tfrecords.interleave(\n",
    "        tf.data.TFRecordDataset,\n",
    "        cycle_length=4,\n",
    "        block_length=16,\n",
    "        num_parallel_calls=tf.data.experimental.AUTOTUNE)\n",
    "    dataset = dataset.map(parse_example,\n",
    "                             num_parallel_calls=tf.data.experimental.AUTOTUNE)\n",
    "    return dataset"
   ]
  },
  {
   "cell_type": "code",
   "execution_count": 32,
   "metadata": {},
   "outputs": [
    {
     "data": {
      "text/plain": [
       "(TensorSpec(shape=(None, None, 3), dtype=tf.uint8, name=None),\n",
       " TensorSpec(shape=(None, 4), dtype=tf.float32, name=None),\n",
       " TensorSpec(shape=(None,), dtype=tf.int64, name=None))"
      ]
     },
     "execution_count": 32,
     "metadata": {},
     "output_type": "execute_result"
    }
   ],
   "source": [
    "dataset = build_tfrecord_dataset(train_tfrecords)\n",
    "tf.data.experimental.get_structure(dataset)"
   ]
  },
  {
   "cell_type": "code",
   "execution_count": 33,
   "metadata": {},
   "outputs": [],
   "source": [
    "def imshow(image):\n",
    "    plt.figure(figsize=(8, 6))\n",
    "    plt.imshow(image)\n",
    "\n",
    "\n",
    "def draw_boxes_cv2(image, boxes, categories):\n",
    "    boxes = np.array(boxes, dtype=np.int32)\n",
    "    for _box, _cls in zip(boxes, categories):\n",
    "        text = _cls\n",
    "        char_len = len(text) * 9\n",
    "        text_orig = (_box[0] + 5, _box[1] - 6)\n",
    "        text_bg_xy1 = (_box[0], _box[1] - 20)\n",
    "        text_bg_xy2 = (_box[0] + char_len, _box[1])\n",
    "        image = cv2.rectangle(image, text_bg_xy1, text_bg_xy2, [255, 252, 150],\n",
    "                              -1)\n",
    "        image = cv2.putText(image,\n",
    "                            text,\n",
    "                            text_orig,\n",
    "                            cv2.FONT_HERSHEY_COMPLEX_SMALL,\n",
    "                            .6, [0, 0, 0],\n",
    "                            5,\n",
    "                            lineType=cv2.LINE_AA)\n",
    "        img = cv2.putText(image,\n",
    "                          text,\n",
    "                          text_orig,\n",
    "                          cv2.FONT_HERSHEY_COMPLEX_SMALL,\n",
    "                          .6, [255, 255, 255],\n",
    "                          1,\n",
    "                          lineType=cv2.LINE_AA)\n",
    "        img = cv2.rectangle(image, (_box[0], _box[1]), (_box[2], _box[3]),\n",
    "                            [30, 15, 30], 2)\n",
    "    return img"
   ]
  },
  {
   "cell_type": "code",
   "execution_count": 37,
   "metadata": {},
   "outputs": [
    {
     "data": {
      "image/png": "[encoded data removed]",
      "text/plain": [
       "<Figure size 576x432 with 1 Axes>"
      ]
     },
     "metadata": {
      "needs_background": "light"
     },
     "output_type": "display_data"
    }
   ],
   "source": [
    "class_map = {0: 'circle', 1: 'rectangle'}\n",
    "\n",
    "for image, boxes, class_ids in dataset.take(1):\n",
    "    classes = [class_map[int(x)] for x in class_ids.numpy()]\n",
    "    viz_image = draw_boxes_cv2(image.numpy(), boxes.numpy(), classes)\n",
    "    imshow(viz_image)"
   ]
  },
  {
   "cell_type": "code",
   "execution_count": 38,
   "metadata": {},
   "outputs": [],
   "source": [
    "def random_flip_data(image, boxes, w):\n",
    "    w = tf.cast(tf.shape(image)[1], dtype=tf.float32)\n",
    "    if tf.random.uniform(()) > 0.5:\n",
    "        image = tf.image.flip_left_right(image)\n",
    "        boxes = tf.stack(\n",
    "            [w - boxes[:, 2],\n",
    "             boxes[:, 1],\n",
    "             w - boxes[:, 0],\n",
    "             boxes[:, 3]],\n",
    "            axis=-1)\n",
    "    return image, boxes"
   ]
  },
  {
   "cell_type": "code",
   "execution_count": 39,
   "metadata": {},
   "outputs": [
    {
     "data": {
      "image/png": "[encoded data removed]",
      "text/plain": [
       "<Figure size 576x432 with 1 Axes>"
      ]
     },
     "metadata": {
      "needs_background": "light"
     },
     "output_type": "display_data"
    }
   ],
   "source": [
    "classes = [class_map[int(x)] for x in class_ids.numpy()]\n",
    "image, boxes = random_flip_data(image, boxes, 448)\n",
    "viz_image = draw_boxes_cv2(image.numpy(), boxes.numpy(), classes)\n",
    "imshow(viz_image)"
   ]
  },
  {
   "cell_type": "code",
   "execution_count": null,
   "metadata": {},
   "outputs": [],
   "source": []
  }
 ],
 "metadata": {
  "kernelspec": {
   "display_name": "Python 3",
   "language": "python",
   "name": "python3"
  },
  "language_info": {
   "codemirror_mode": {
    "name": "ipython",
    "version": 3
   },
   "file_extension": ".py",
   "mimetype": "text/x-python",
   "name": "python",
   "nbconvert_exporter": "python",
   "pygments_lexer": "ipython3",
   "version": "3.7.6"
  }
 },
 "nbformat": 4,
 "nbformat_minor": 4
}
